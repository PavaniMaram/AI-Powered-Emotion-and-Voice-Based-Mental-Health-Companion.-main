{
  "nbformat": 4,
  "nbformat_minor": 0,
  "metadata": {
    "colab": {
      "provenance": []
    },
    "kernelspec": {
      "name": "python3",
      "display_name": "Python 3"
    },
    "language_info": {
      "name": "python"
    }
  },
  "cells": [
    {
      "cell_type": "code",
      "execution_count": 23,
      "metadata": {
        "colab": {
          "base_uri": "https://localhost:8080/"
        },
        "id": "BSq4OiS3cxPC",
        "outputId": "b8c5e153-c548-457c-aa44-15c21d2fcfd9"
      },
      "outputs": [
        {
          "output_type": "stream",
          "name": "stdout",
          "text": [
            "                                     dicom_file      CPAR\n",
            "0  02aa804e-bde0afdd-112c0b34-7bc16630-4e384014  0.300302\n",
            "1  2a2277a9-b0ded155-c0de8eb9-c124d10e-82c5caab  0.258921\n",
            "2  2a280266-c8bae121-54d75383-cac046f4-ca37aa16  0.340023\n",
            "3  b75df1bd-0f22d631-52d73526-2ae7b85a-d843b39d  0.343356\n",
            "4  c50494f1-90e2bff5-e9189550-1a4562fd-6ab5204c  2.000000\n"
          ]
        }
      ],
      "source": [
        "import pandas as pd\n",
        "\n",
        "# Load your dataset (replace 'your_dataset.csv' with your actual file path)\n",
        "df = pd.read_csv('/content/CPARs.csv')\n",
        "\n",
        "# Display the first 5 rows of the dataset\n",
        "print(df.head())\n"
      ]
    },
    {
      "cell_type": "code",
      "source": [
        "import pandas as pd\n",
        "\n",
        "# Load your dataset (replace 'your_dataset.csv' with your actual file path)\n",
        "df = pd.read_csv('/content/CTRs.csv')\n",
        "\n",
        "# Display the first 5 rows of the dataset\n",
        "print(df.head())\n"
      ],
      "metadata": {
        "colab": {
          "base_uri": "https://localhost:8080/"
        },
        "id": "PfiYYcSxc7qA",
        "outputId": "6dd66fc4-08f1-47bf-d656-b4be6b87de44"
      },
      "execution_count": 24,
      "outputs": [
        {
          "output_type": "stream",
          "name": "stdout",
          "text": [
            "                                     dicom_file       CTR\n",
            "0  02aa804e-bde0afdd-112c0b34-7bc16630-4e384014  0.442639\n",
            "1  2a2277a9-b0ded155-c0de8eb9-c124d10e-82c5caab  0.408860\n",
            "2  2a280266-c8bae121-54d75383-cac046f4-ca37aa16  0.479361\n",
            "3  b75df1bd-0f22d631-52d73526-2ae7b85a-d843b39d  0.474415\n",
            "4  c50494f1-90e2bff5-e9189550-1a4562fd-6ab5204c  0.560569\n"
          ]
        }
      ]
    },
    {
      "cell_type": "code",
      "source": [
        "import pandas as pd\n",
        "import pickle\n",
        "from sklearn.model_selection import train_test_split\n",
        "from sklearn.preprocessing import StandardScaler\n",
        "from sklearn.linear_model import LogisticRegression\n",
        "from sklearn.tree import DecisionTreeClassifier\n",
        "from sklearn.ensemble import RandomForestClassifier\n",
        "from sklearn.svm import SVC\n",
        "from xgboost import XGBClassifier\n",
        "from sklearn.metrics import accuracy_score\n",
        "\n",
        "# Load CPAR dataset\n",
        "cpar_df = pd.read_csv('/content/CPARs.csv')\n",
        "\n",
        "# Create a synthetic target variable (for demonstration)\n",
        "cpar_df['mental_health_status'] = (cpar_df['CPAR'] > 0.3).astype(int)  # Example condition\n",
        "\n",
        "# Features and target variable\n",
        "X_cpar = cpar_df[['CPAR']]\n",
        "y_cpar = cpar_df['mental_health_status']\n",
        "\n",
        "# Train-test split\n",
        "X_train_cpar, X_test_cpar, y_train_cpar, y_test_cpar = train_test_split(X_cpar, y_cpar, test_size=0.2, random_state=42)\n",
        "\n",
        "# Standardize features\n",
        "scaler = StandardScaler()\n",
        "X_train_cpar = scaler.fit_transform(X_train_cpar)\n",
        "X_test_cpar = scaler.transform(X_test_cpar)\n",
        "\n",
        "# Initialize results dictionary for CPAR\n",
        "results_cpar = {}\n",
        "\n",
        "# 1. Logistic Regression\n",
        "model_lr = LogisticRegression()\n",
        "model_lr.fit(X_train_cpar, y_train_cpar)\n",
        "y_pred_lr = model_lr.predict(X_test_cpar)\n",
        "results_cpar['Logistic Regression'] = accuracy_score(y_test_cpar, y_pred_lr)\n",
        "\n",
        "# 2. Decision Tree\n",
        "model_dt = DecisionTreeClassifier(random_state=42)\n",
        "model_dt.fit(X_train_cpar, y_train_cpar)\n",
        "y_pred_dt = model_dt.predict(X_test_cpar)\n",
        "results_cpar['Decision Tree'] = accuracy_score(y_test_cpar, y_pred_dt)\n",
        "\n",
        "# 3. Random Forest\n",
        "model_rf = RandomForestClassifier(random_state=42)\n",
        "model_rf.fit(X_train_cpar, y_train_cpar)\n",
        "y_pred_rf = model_rf.predict(X_test_cpar)\n",
        "results_cpar['Random Forest'] = accuracy_score(y_test_cpar, y_pred_rf)\n",
        "\n",
        "# 4. Support Vector Machine (SVM)\n",
        "model_svc = SVC(random_state=42)\n",
        "model_svc.fit(X_train_cpar, y_train_cpar)\n",
        "y_pred_svc = model_svc.predict(X_test_cpar)\n",
        "results_cpar['Support Vector Machine'] = accuracy_score(y_test_cpar, y_pred_svc)\n",
        "\n",
        "# 5. Gradient Boosting (XGBoost)\n",
        "model_xgb = XGBClassifier(use_label_encoder=False, eval_metric='logloss')\n",
        "model_xgb.fit(X_train_cpar, y_train_cpar)\n",
        "y_pred_xgb = model_xgb.predict(X_test_cpar)\n",
        "results_cpar['XGBoost'] = accuracy_score(y_test_cpar, y_pred_xgb)\n",
        "\n",
        "# Print results for CPAR\n",
        "for model_name, accuracy in results_cpar.items():\n",
        "    print(f\"{model_name} Accuracy: {accuracy:.4f}\")\n",
        "\n",
        "# Determine the best model for CPAR\n",
        "best_model_cpar = max(results_cpar, key=results_cpar.get)\n",
        "print(f\"The best model for CPAR dataset is: {best_model_cpar} with an accuracy of {results_cpar[best_model_cpar]:.4f}\")\n",
        "\n",
        "# Save the best model and scaler to pickle files\n",
        "models_to_save = {\n",
        "    \"Logistic Regression\": model_lr,\n",
        "    \"Decision Tree\": model_dt,\n",
        "    \"Random Forest\": model_rf,\n",
        "    \"Support Vector Machine\": model_svc,\n",
        "    \"XGBoost\": model_xgb,\n",
        "    \"Scaler\": scaler  # Saving the scaler as well\n",
        "}\n",
        "\n",
        "# Save each model and scaler in a pickle file\n",
        "for model_name, model in models_to_save.items():\n",
        "    with open(f'/content/{model_name.replace(\" \", \"_\").lower()}.pkl', 'wb') as f:\n",
        "        pickle.dump(model, f)\n",
        "\n",
        "print(\"Models and scaler have been saved successfully!\")\n"
      ],
      "metadata": {
        "colab": {
          "base_uri": "https://localhost:8080/"
        },
        "id": "IWCLne8jhjOV",
        "outputId": "6178d8eb-0888-4a9e-f2dd-636d7acc9a09"
      },
      "execution_count": 43,
      "outputs": [
        {
          "output_type": "stream",
          "name": "stderr",
          "text": [
            "/usr/local/lib/python3.10/dist-packages/xgboost/core.py:158: UserWarning: [19:35:34] WARNING: /workspace/src/learner.cc:740: \n",
            "Parameters: { \"use_label_encoder\" } are not used.\n",
            "\n",
            "  warnings.warn(smsg, UserWarning)\n"
          ]
        },
        {
          "output_type": "stream",
          "name": "stdout",
          "text": [
            "Logistic Regression Accuracy: 0.9998\n",
            "Decision Tree Accuracy: 1.0000\n",
            "Random Forest Accuracy: 1.0000\n",
            "Support Vector Machine Accuracy: 0.9999\n",
            "XGBoost Accuracy: 0.9990\n",
            "The best model for CPAR dataset is: Decision Tree with an accuracy of 1.0000\n",
            "Models and scaler have been saved successfully!\n"
          ]
        }
      ]
    },
    {
      "cell_type": "code",
      "source": [
        "import pandas as pd\n",
        "from sklearn.model_selection import train_test_split\n",
        "from sklearn.preprocessing import StandardScaler\n",
        "from sklearn.linear_model import LogisticRegression\n",
        "from sklearn.tree import DecisionTreeClassifier\n",
        "from sklearn.ensemble import RandomForestClassifier\n",
        "from sklearn.svm import SVC\n",
        "from xgboost import XGBClassifier\n",
        "from sklearn.metrics import accuracy_score\n",
        "\n",
        "# Load CPAR dataset\n",
        "cpar_df = pd.read_csv('/content/CPARs.csv')\n",
        "\n",
        "# Create a synthetic target variable (for demonstration)\n",
        "cpar_df['mental_health_status'] = (cpar_df['CPAR'] > 0.3).astype(int)  # Example condition\n",
        "\n",
        "# Features and target variable\n",
        "X_cpar = cpar_df[['CPAR']]\n",
        "y_cpar = cpar_df['mental_health_status']\n",
        "\n",
        "# Train-test split\n",
        "X_train_cpar, X_test_cpar, y_train_cpar, y_test_cpar = train_test_split(X_cpar, y_cpar, test_size=0.2, random_state=42)\n",
        "\n",
        "# Standardize features\n",
        "scaler = StandardScaler()\n",
        "X_train_cpar = scaler.fit_transform(X_train_cpar)\n",
        "X_test_cpar = scaler.transform(X_test_cpar)\n",
        "\n",
        "# Initialize results dictionary for CPAR\n",
        "results_cpar = {}\n",
        "\n",
        "# 1. Logistic Regression\n",
        "model_lr = LogisticRegression()\n",
        "model_lr.fit(X_train_cpar, y_train_cpar)\n",
        "y_pred_lr = model_lr.predict(X_test_cpar)\n",
        "results_cpar['Logistic Regression'] = accuracy_score(y_test_cpar, y_pred_lr)\n",
        "\n",
        "# 2. Decision Tree\n",
        "model_dt = DecisionTreeClassifier(random_state=42)\n",
        "model_dt.fit(X_train_cpar, y_train_cpar)\n",
        "y_pred_dt = model_dt.predict(X_test_cpar)\n",
        "results_cpar['Decision Tree'] = accuracy_score(y_test_cpar, y_pred_dt)\n",
        "\n",
        "# 3. Random Forest\n",
        "model_rf = RandomForestClassifier(random_state=42)\n",
        "model_rf.fit(X_train_cpar, y_train_cpar)\n",
        "y_pred_rf = model_rf.predict(X_test_cpar)\n",
        "results_cpar['Random Forest'] = accuracy_score(y_test_cpar, y_pred_rf)\n",
        "\n",
        "# 4. Support Vector Machine (SVM)\n",
        "model_svc = SVC(random_state=42)\n",
        "model_svc.fit(X_train_cpar, y_train_cpar)\n",
        "y_pred_svc = model_svc.predict(X_test_cpar)\n",
        "results_cpar['Support Vector Machine'] = accuracy_score(y_test_cpar, y_pred_svc)\n",
        "\n",
        "# 5. Gradient Boosting (XGBoost)\n",
        "model_xgb = XGBClassifier(use_label_encoder=False, eval_metric='logloss')\n",
        "model_xgb.fit(X_train_cpar, y_train_cpar)\n",
        "y_pred_xgb = model_xgb.predict(X_test_cpar)\n",
        "results_cpar['XGBoost'] = accuracy_score(y_test_cpar, y_pred_xgb)\n",
        "\n",
        "# Print results for CPAR\n",
        "for model_name, accuracy in results_cpar.items():\n",
        "    print(f\"{model_name} Accuracy: {accuracy:.4f}\")\n",
        "\n",
        "# Determine the best model for CPAR\n",
        "best_model_cpar = max(results_cpar, key=results_cpar.get)\n",
        "print(f\"The best model for CPAR dataset is: {best_model_cpar} with an accuracy of {results_cpar[best_model_cpar]:.4f}\")\n"
      ],
      "metadata": {
        "colab": {
          "base_uri": "https://localhost:8080/"
        },
        "id": "gGjNsKu5oE4s",
        "outputId": "a821b8e7-8871-448e-ad17-69995a50bf57"
      },
      "execution_count": 25,
      "outputs": [
        {
          "output_type": "stream",
          "name": "stderr",
          "text": [
            "/usr/local/lib/python3.10/dist-packages/xgboost/core.py:158: UserWarning: [19:12:29] WARNING: /workspace/src/learner.cc:740: \n",
            "Parameters: { \"use_label_encoder\" } are not used.\n",
            "\n",
            "  warnings.warn(smsg, UserWarning)\n"
          ]
        },
        {
          "output_type": "stream",
          "name": "stdout",
          "text": [
            "Logistic Regression Accuracy: 0.9998\n",
            "Decision Tree Accuracy: 1.0000\n",
            "Random Forest Accuracy: 1.0000\n",
            "Support Vector Machine Accuracy: 0.9999\n",
            "XGBoost Accuracy: 0.9990\n",
            "The best model for CPAR dataset is: Decision Tree with an accuracy of 1.0000\n"
          ]
        }
      ]
    },
    {
      "cell_type": "code",
      "source": [
        "# Load CTR dataset\n",
        "ctr_df = pd.read_csv('/content/CTRs.csv')\n",
        "\n",
        "# Create a synthetic target variable (for demonstration)\n",
        "ctr_df['mental_health_status'] = (ctr_df['CTR'] > 0.45).astype(int)  # Example condition\n",
        "\n",
        "# Features and target variable\n",
        "X_ctr = ctr_df[['CTR']]\n",
        "y_ctr = ctr_df['mental_health_status']\n",
        "\n",
        "# Train-test split\n",
        "X_train_ctr, X_test_ctr, y_train_ctr, y_test_ctr = train_test_split(X_ctr, y_ctr, test_size=0.2, random_state=42)\n",
        "\n",
        "# Standardize features\n",
        "X_train_ctr = scaler.fit_transform(X_train_ctr)\n",
        "X_test_ctr = scaler.transform(X_test_ctr)\n",
        "\n",
        "# Initialize results dictionary for CTR\n",
        "results_ctr = {}\n",
        "\n",
        "# 1. Logistic Regression\n",
        "model_lr = LogisticRegression()\n",
        "model_lr.fit(X_train_ctr, y_train_ctr)\n",
        "y_pred_lr = model_lr.predict(X_test_ctr)\n",
        "results_ctr['Logistic Regression'] = accuracy_score(y_test_ctr, y_pred_lr)\n",
        "\n",
        "# 2. Decision Tree\n",
        "model_dt = DecisionTreeClassifier(random_state=42)\n",
        "model_dt.fit(X_train_ctr, y_train_ctr)\n",
        "y_pred_dt = model_dt.predict(X_test_ctr)\n",
        "results_ctr['Decision Tree'] = accuracy_score(y_test_ctr, y_pred_dt)\n",
        "\n",
        "# 3. Random Forest\n",
        "model_rf = RandomForestClassifier(random_state=42)\n",
        "model_rf.fit(X_train_ctr, y_train_ctr)\n",
        "y_pred_rf = model_rf.predict(X_test_ctr)\n",
        "results_ctr['Random Forest'] = accuracy_score(y_test_ctr, y_pred_rf)\n",
        "\n",
        "# 4. Support Vector Machine (SVM)\n",
        "model_svc = SVC(random_state=42)\n",
        "model_svc.fit(X_train_ctr, y_train_ctr)\n",
        "y_pred_svc = model_svc.predict(X_test_ctr)\n",
        "results_ctr['Support Vector Machine'] = accuracy_score(y_test_ctr, y_pred_svc)\n",
        "\n",
        "# 5. Gradient Boosting (XGBoost)\n",
        "model_xgb = XGBClassifier(use_label_encoder=False, eval_metric='logloss')\n",
        "model_xgb.fit(X_train_ctr, y_train_ctr)\n",
        "y_pred_xgb = model_xgb.predict(X_test_ctr)\n",
        "results_ctr['XGBoost'] = accuracy_score(y_test_ctr, y_pred_xgb)\n",
        "\n",
        "# Print results for CTR\n",
        "for model_name, accuracy in results_ctr.items():\n",
        "    print(f\"{model_name} Accuracy: {accuracy:.4f}\")\n",
        "\n",
        "# Determine the best model for CTR\n",
        "best_model_ctr = max(results_ctr, key=results_ctr.get)\n",
        "print(f\"The best model for CTR dataset is: {best_model_ctr} with an accuracy of {results_ctr[best_model_ctr]:.4f}\")\n"
      ],
      "metadata": {
        "colab": {
          "base_uri": "https://localhost:8080/"
        },
        "id": "1DeVU3shoVYk",
        "outputId": "75494e23-618a-48c7-eef2-b0a7c6ae1c2d"
      },
      "execution_count": 26,
      "outputs": [
        {
          "output_type": "stream",
          "name": "stderr",
          "text": [
            "/usr/local/lib/python3.10/dist-packages/xgboost/core.py:158: UserWarning: [19:13:48] WARNING: /workspace/src/learner.cc:740: \n",
            "Parameters: { \"use_label_encoder\" } are not used.\n",
            "\n",
            "  warnings.warn(smsg, UserWarning)\n"
          ]
        },
        {
          "output_type": "stream",
          "name": "stdout",
          "text": [
            "Logistic Regression Accuracy: 0.9988\n",
            "Decision Tree Accuracy: 1.0000\n",
            "Random Forest Accuracy: 1.0000\n",
            "Support Vector Machine Accuracy: 0.9994\n",
            "XGBoost Accuracy: 0.9985\n",
            "The best model for CTR dataset is: Decision Tree with an accuracy of 1.0000\n"
          ]
        }
      ]
    },
    {
      "cell_type": "code",
      "source": [
        "import pandas as pd\n",
        "import pickle\n",
        "from sklearn.model_selection import train_test_split\n",
        "from sklearn.preprocessing import StandardScaler\n",
        "from sklearn.linear_model import LogisticRegression\n",
        "from sklearn.tree import DecisionTreeClassifier\n",
        "from sklearn.ensemble import RandomForestClassifier\n",
        "from sklearn.svm import SVC\n",
        "from xgboost import XGBClassifier\n",
        "from sklearn.metrics import accuracy_score\n",
        "\n",
        "# Load CTR dataset\n",
        "ctr_df = pd.read_csv('/content/CTRs.csv')\n",
        "\n",
        "# Create a synthetic target variable (for demonstration)\n",
        "ctr_df['mental_health_status'] = (ctr_df['CTR'] > 0.45).astype(int)  # Example condition\n",
        "\n",
        "# Features and target variable\n",
        "X_ctr = ctr_df[['CTR']]\n",
        "y_ctr = ctr_df['mental_health_status']\n",
        "\n",
        "# Train-test split\n",
        "X_train_ctr, X_test_ctr, y_train_ctr, y_test_ctr = train_test_split(X_ctr, y_ctr, test_size=0.2, random_state=42)\n",
        "\n",
        "# Standardize features\n",
        "scaler = StandardScaler()  # Initialize a new scaler for CTR\n",
        "X_train_ctr = scaler.fit_transform(X_train_ctr)\n",
        "X_test_ctr = scaler.transform(X_test_ctr)\n",
        "\n",
        "# Initialize results dictionary for CTR\n",
        "results_ctr = {}\n",
        "\n",
        "# 1. Logistic Regression\n",
        "model_lr = LogisticRegression()\n",
        "model_lr.fit(X_train_ctr, y_train_ctr)\n",
        "y_pred_lr = model_lr.predict(X_test_ctr)\n",
        "results_ctr['Logistic Regression'] = accuracy_score(y_test_ctr, y_pred_lr)\n",
        "\n",
        "# 2. Decision Tree\n",
        "model_dt = DecisionTreeClassifier(random_state=42)\n",
        "model_dt.fit(X_train_ctr, y_train_ctr)\n",
        "y_pred_dt = model_dt.predict(X_test_ctr)\n",
        "results_ctr['Decision Tree'] = accuracy_score(y_test_ctr, y_pred_dt)\n",
        "\n",
        "# 3. Random Forest\n",
        "model_rf = RandomForestClassifier(random_state=42)\n",
        "model_rf.fit(X_train_ctr, y_train_ctr)\n",
        "y_pred_rf = model_rf.predict(X_test_ctr)\n",
        "results_ctr['Random Forest'] = accuracy_score(y_test_ctr, y_pred_rf)\n",
        "\n",
        "# 4. Support Vector Machine (SVM)\n",
        "model_svc = SVC(random_state=42)\n",
        "model_svc.fit(X_train_ctr, y_train_ctr)\n",
        "y_pred_svc = model_svc.predict(X_test_ctr)\n",
        "results_ctr['Support Vector Machine'] = accuracy_score(y_test_ctr, y_pred_svc)\n",
        "\n",
        "# 5. Gradient Boosting (XGBoost)\n",
        "model_xgb = XGBClassifier(use_label_encoder=False, eval_metric='logloss')\n",
        "model_xgb.fit(X_train_ctr, y_train_ctr)\n",
        "y_pred_xgb = model_xgb.predict(X_test_ctr)\n",
        "results_ctr['XGBoost'] = accuracy_score(y_test_ctr, y_pred_xgb)\n",
        "\n",
        "# Print results for CTR\n",
        "for model_name, accuracy in results_ctr.items():\n",
        "    print(f\"{model_name} Accuracy: {accuracy:.4f}\")\n",
        "\n",
        "# Determine the best model for CTR\n",
        "best_model_ctr = max(results_ctr, key=results_ctr.get)\n",
        "print(f\"The best model for CTR dataset is: {best_model_ctr} with an accuracy of {results_ctr[best_model_ctr]:.4f}\")\n",
        "\n",
        "# Save the best model and scaler to pickle files\n",
        "models_to_save_ctr = {\n",
        "    \"Logistic Regression\": model_lr,\n",
        "    \"Decision Tree\": model_dt,\n",
        "    \"Random Forest\": model_rf,\n",
        "    \"Support Vector Machine\": model_svc,\n",
        "    \"XGBoost\": model_xgb,\n",
        "    \"Scaler\": scaler  # Saving the scaler as well\n",
        "}\n",
        "\n",
        "# Save each model and scaler in a pickle file\n",
        "for model_name, model in models_to_save_ctr.items():\n",
        "    with open(f'/content/{model_name.replace(\" \", \"_\").lower()}.pkl', 'wb') as f:\n",
        "        pickle.dump(model, f)\n",
        "\n",
        "print(\"Models and scaler for CTR have been saved successfully!\")\n"
      ],
      "metadata": {
        "colab": {
          "base_uri": "https://localhost:8080/"
        },
        "id": "suCL_FnKifgO",
        "outputId": "a4370bb6-4fd0-4d04-fcc0-0432d5061b3e"
      },
      "execution_count": 44,
      "outputs": [
        {
          "output_type": "stream",
          "name": "stderr",
          "text": [
            "/usr/local/lib/python3.10/dist-packages/xgboost/core.py:158: UserWarning: [19:40:21] WARNING: /workspace/src/learner.cc:740: \n",
            "Parameters: { \"use_label_encoder\" } are not used.\n",
            "\n",
            "  warnings.warn(smsg, UserWarning)\n"
          ]
        },
        {
          "output_type": "stream",
          "name": "stdout",
          "text": [
            "Logistic Regression Accuracy: 0.9988\n",
            "Decision Tree Accuracy: 1.0000\n",
            "Random Forest Accuracy: 1.0000\n",
            "Support Vector Machine Accuracy: 0.9994\n",
            "XGBoost Accuracy: 0.9985\n",
            "The best model for CTR dataset is: Decision Tree with an accuracy of 1.0000\n",
            "Models and scaler for CTR have been saved successfully!\n"
          ]
        }
      ]
    },
    {
      "cell_type": "code",
      "source": [
        "import pandas as pd\n",
        "from sklearn.model_selection import train_test_split\n",
        "from sklearn.preprocessing import StandardScaler\n",
        "\n",
        "# Load CPAR dataset\n",
        "cpar_df = pd.read_csv('/content/CPARs.csv')\n",
        "\n",
        "# Create a synthetic target variable for CPAR (for demonstration)\n",
        "cpar_df['mental_health_status'] = (cpar_df['CPAR'] > 0.3).astype(int)\n",
        "\n",
        "# Load CTR dataset\n",
        "ctr_df = pd.read_csv('/content/CTRs.csv')\n",
        "\n",
        "# Create a synthetic target variable for CTR (for demonstration)\n",
        "ctr_df['mental_health_status'] = (ctr_df['CTR'] > 0.45).astype(int)\n",
        "\n",
        "# Combine both datasets\n",
        "merged_df = pd.merge(cpar_df, ctr_df, on='dicom_file', suffixes=('_cpar', '_ctr'))\n",
        "\n",
        "# Create the target variable for the combined dataset\n",
        "merged_df['mental_health_status'] = (merged_df['CPAR'] > 0.3) | (merged_df['CTR'] > 0.45)\n",
        "merged_df['mental_health_status'] = merged_df['mental_health_status'].astype(int)\n",
        "\n",
        "# Features and target variable\n",
        "X_combined = merged_df[['CPAR', 'CTR']]\n",
        "y_combined = merged_df['mental_health_status']\n",
        "\n",
        "# Train-test split\n",
        "X_train_combined, X_test_combined, y_train_combined, y_test_combined = train_test_split(X_combined, y_combined, test_size=0.2, random_state=42)\n",
        "\n",
        "# Standardize features\n",
        "scaler = StandardScaler()\n",
        "X_train_combined = scaler.fit_transform(X_train_combined)\n",
        "X_test_combined = scaler.transform(X_test_combined)\n"
      ],
      "metadata": {
        "id": "yp231gJso0kO"
      },
      "execution_count": 27,
      "outputs": []
    },
    {
      "cell_type": "code",
      "source": [
        "from sklearn.tree import DecisionTreeClassifier\n",
        "from sklearn.metrics import accuracy_score\n",
        "\n",
        "# Decision Tree\n",
        "model_dt = DecisionTreeClassifier(random_state=42)\n",
        "model_dt.fit(X_train_combined, y_train_combined)\n",
        "y_pred_dt = model_dt.predict(X_test_combined)\n",
        "accuracy_dt = accuracy_score(y_test_combined, y_pred_dt)\n",
        "print(f\"Decision Tree Accuracy: {accuracy_dt:.4f}\")\n"
      ],
      "metadata": {
        "colab": {
          "base_uri": "https://localhost:8080/"
        },
        "id": "Teg0FEs5o0gj",
        "outputId": "6d4072dd-5775-4b28-93ec-dc0826122e6b"
      },
      "execution_count": 28,
      "outputs": [
        {
          "output_type": "stream",
          "name": "stdout",
          "text": [
            "Decision Tree Accuracy: 0.9999\n"
          ]
        }
      ]
    },
    {
      "cell_type": "code",
      "source": [
        "from sklearn.linear_model import LogisticRegression\n",
        "\n",
        "# Logistic Regression\n",
        "model_lr = LogisticRegression()\n",
        "model_lr.fit(X_train_combined, y_train_combined)\n",
        "y_pred_lr = model_lr.predict(X_test_combined)\n",
        "accuracy_lr = accuracy_score(y_test_combined, y_pred_lr)\n",
        "print(f\"Logistic Regression Accuracy: {accuracy_lr:.4f}\")\n"
      ],
      "metadata": {
        "colab": {
          "base_uri": "https://localhost:8080/"
        },
        "id": "NgcIaDPRo0ep",
        "outputId": "590423c5-35dc-4906-caee-558b57149f6c"
      },
      "execution_count": 29,
      "outputs": [
        {
          "output_type": "stream",
          "name": "stdout",
          "text": [
            "Logistic Regression Accuracy: 0.9635\n"
          ]
        }
      ]
    },
    {
      "cell_type": "code",
      "source": [
        "from sklearn.ensemble import RandomForestClassifier\n",
        "\n",
        "# Random Forest\n",
        "model_rf = RandomForestClassifier(random_state=42)\n",
        "model_rf.fit(X_train_combined, y_train_combined)\n",
        "y_pred_rf = model_rf.predict(X_test_combined)\n",
        "accuracy_rf = accuracy_score(y_test_combined, y_pred_rf)\n",
        "print(f\"Random Forest Accuracy: {accuracy_rf:.4f}\")\n"
      ],
      "metadata": {
        "colab": {
          "base_uri": "https://localhost:8080/"
        },
        "id": "DbM2MPBmo0cm",
        "outputId": "186f4c2c-bc29-424c-d3fa-a4f3faa7f289"
      },
      "execution_count": 30,
      "outputs": [
        {
          "output_type": "stream",
          "name": "stdout",
          "text": [
            "Random Forest Accuracy: 0.9999\n"
          ]
        }
      ]
    },
    {
      "cell_type": "code",
      "source": [
        "from sklearn.neighbors import KNeighborsClassifier\n",
        "\n",
        "# K-Nearest Neighbors\n",
        "model_knn = KNeighborsClassifier()\n",
        "model_knn.fit(X_train_combined, y_train_combined)\n",
        "y_pred_knn = model_knn.predict(X_test_combined)\n",
        "accuracy_knn = accuracy_score(y_test_combined, y_pred_knn)\n",
        "print(f\"K-Nearest Neighbors Accuracy: {accuracy_knn:.4f}\")\n"
      ],
      "metadata": {
        "colab": {
          "base_uri": "https://localhost:8080/"
        },
        "id": "Gk2Nh1LIo0ao",
        "outputId": "655fb160-1bc9-47ff-dfcc-13e068bc94f4"
      },
      "execution_count": 31,
      "outputs": [
        {
          "output_type": "stream",
          "name": "stdout",
          "text": [
            "K-Nearest Neighbors Accuracy: 0.9991\n"
          ]
        }
      ]
    },
    {
      "cell_type": "code",
      "source": [
        "from sklearn.svm import SVC\n",
        "\n",
        "# Support Vector Machine\n",
        "model_svc = SVC(random_state=42)\n",
        "model_svc.fit(X_train_combined, y_train_combined)\n",
        "y_pred_svc = model_svc.predict(X_test_combined)\n",
        "accuracy_svc = accuracy_score(y_test_combined, y_pred_svc)\n",
        "print(f\"Support Vector Machine Accuracy: {accuracy_svc:.4f}\")\n"
      ],
      "metadata": {
        "colab": {
          "base_uri": "https://localhost:8080/"
        },
        "id": "u-sXlxtKo0Yu",
        "outputId": "71cbb9a1-9838-437b-b4aa-b070e2040c9e"
      },
      "execution_count": 32,
      "outputs": [
        {
          "output_type": "stream",
          "name": "stdout",
          "text": [
            "Support Vector Machine Accuracy: 0.9712\n"
          ]
        }
      ]
    },
    {
      "cell_type": "code",
      "source": [
        "from xgboost import XGBClassifier\n",
        "\n",
        "# Gradient Boosting (XGBoost)\n",
        "model_xgb = XGBClassifier(use_label_encoder=False, eval_metric='logloss')\n",
        "model_xgb.fit(X_train_combined, y_train_combined)\n",
        "y_pred_xgb = model_xgb.predict(X_test_combined)\n",
        "accuracy_xgb = accuracy_score(y_test_combined, y_pred_xgb)\n",
        "print(f\"XGBoost Accuracy: {accuracy_xgb:.4f}\")\n"
      ],
      "metadata": {
        "colab": {
          "base_uri": "https://localhost:8080/"
        },
        "id": "u8966MNso0Wh",
        "outputId": "31f9d44e-44fc-4c4a-b4db-15de1886102c"
      },
      "execution_count": null,
      "outputs": [
        {
          "output_type": "stream",
          "name": "stderr",
          "text": [
            "/usr/local/lib/python3.10/dist-packages/xgboost/core.py:158: UserWarning: [15:31:19] WARNING: /workspace/src/learner.cc:740: \n",
            "Parameters: { \"use_label_encoder\" } are not used.\n",
            "\n",
            "  warnings.warn(smsg, UserWarning)\n"
          ]
        },
        {
          "output_type": "stream",
          "name": "stdout",
          "text": [
            "XGBoost Accuracy: 0.9991\n"
          ]
        }
      ]
    },
    {
      "cell_type": "code",
      "source": [
        "from sklearn.naive_bayes import GaussianNB\n",
        "\n",
        "# Naive Bayes\n",
        "model_nb = GaussianNB()\n",
        "model_nb.fit(X_train_combined, y_train_combined)\n",
        "y_pred_nb = model_nb.predict(X_test_combined)\n",
        "accuracy_nb = accuracy_score(y_test_combined, y_pred_nb)\n",
        "print(f\"Naive Bayes Accuracy: {accuracy_nb:.4f}\")\n"
      ],
      "metadata": {
        "colab": {
          "base_uri": "https://localhost:8080/"
        },
        "id": "anSFwVioo0Ud",
        "outputId": "fa765563-b7ed-4d79-ee89-fde4510369c6"
      },
      "execution_count": null,
      "outputs": [
        {
          "output_type": "stream",
          "name": "stdout",
          "text": [
            "Naive Bayes Accuracy: 0.8599\n"
          ]
        }
      ]
    },
    {
      "cell_type": "code",
      "source": [
        "# Collecting results\n",
        "results = {\n",
        "    \"Decision Tree\": accuracy_dt,\n",
        "    \"Logistic Regression\": accuracy_lr,\n",
        "    \"Random Forest\": accuracy_rf,\n",
        "    \"K-Nearest Neighbors\": accuracy_knn,\n",
        "    \"Support Vector Machine\": accuracy_svc,\n",
        "    \"XGBoost\": accuracy_xgb,\n",
        "    \"Naive Bayes\": accuracy_nb,\n",
        "}\n",
        "\n",
        "# Determine the best model\n",
        "best_model = max(results, key=results.get)\n",
        "print(f\"The best model for the combined dataset is: {best_model} with an accuracy of {results[best_model]:.4f}\")\n"
      ],
      "metadata": {
        "colab": {
          "base_uri": "https://localhost:8080/"
        },
        "id": "ZybgepCjo0SO",
        "outputId": "2e674b6c-b061-4cdb-ae19-d01bc04f8bd8"
      },
      "execution_count": null,
      "outputs": [
        {
          "output_type": "stream",
          "name": "stdout",
          "text": [
            "The best model for the combined dataset is: Decision Tree with an accuracy of 0.9999\n"
          ]
        }
      ]
    },
    {
      "cell_type": "code",
      "source": [
        "import matplotlib.pyplot as plt\n",
        "\n",
        "# Accuracy results for each algorithm\n",
        "results = {\n",
        "    \"Decision Tree\": accuracy_dt,\n",
        "    \"Logistic Regression\": accuracy_lr,\n",
        "    \"Random Forest\": accuracy_rf,\n",
        "    \"K-Nearest Neighbors\": accuracy_knn,\n",
        "    \"Support Vector Machine\": accuracy_svc,\n",
        "    \"XGBoost\": accuracy_xgb,\n",
        "    \"Naive Bayes\": accuracy_nb,\n",
        "}\n",
        "\n",
        "# Plotting the accuracies\n",
        "algorithms = list(results.keys())\n",
        "accuracies = list(results.values())\n",
        "\n",
        "plt.figure(figsize=(10, 6))\n",
        "plt.barh(algorithms, accuracies, color='skyblue')\n",
        "plt.xlabel('Accuracy')\n",
        "plt.title('Algorithm Performance Comparison on Combined Dataset')\n",
        "plt.xlim(0, 1)  # Assuming accuracy scores are between 0 and 1\n",
        "for index, value in enumerate(accuracies):\n",
        "    plt.text(value + 0.01, index, f\"{value:.4f}\")\n",
        "\n",
        "plt.show()\n"
      ],
      "metadata": {
        "colab": {
          "base_uri": "https://localhost:8080/",
          "height": 473
        },
        "id": "DD8F7kD4o0N5",
        "outputId": "108e5baf-726b-4809-dddb-d97097c24b9d"
      },
      "execution_count": null,
      "outputs": [
        {
          "output_type": "display_data",
          "data": {
            "text/plain": [
              "<Figure size 1000x600 with 1 Axes>"
            ],
            "image/png": "[encoded data removed]"
          },
          "metadata": {}
        }
      ]
    },
    {
      "cell_type": "code",
      "source": [
        "# Combine both datasets on 'dicom_file'\n",
        "merged_df = pd.merge(cpar_df, ctr_df, on='dicom_file', suffixes=('_cpar', '_ctr'))\n",
        "\n",
        "# Create a synthetic target variable (for demonstration)\n",
        "merged_df['mental_health_status'] = (merged_df['CPAR'] > 0.3) | (merged_df['CTR'] > 0.45)  # Example condition\n",
        "merged_df['mental_health_status'] = merged_df['mental_health_status'].astype(int)\n",
        "\n",
        "# Features and target variable\n",
        "X_combined = merged_df[['CPAR', 'CTR']]\n",
        "y_combined = merged_df['mental_health_status']\n",
        "\n",
        "# Train-test split\n",
        "X_train_combined, X_test_combined, y_train_combined, y_test_combined = train_test_split(X_combined, y_combined, test_size=0.2, random_state=42)\n",
        "\n",
        "# Standardize features\n",
        "X_train_combined = scaler.fit_transform(X_train_combined)\n",
        "X_test_combined = scaler.transform(X_test_combined)\n",
        "\n",
        "# Initialize results dictionary for combined dataset\n",
        "results_combined = {}\n",
        "\n",
        "# 1. Logistic Regression\n",
        "model_lr = LogisticRegression()\n",
        "model_lr.fit(X_train_combined, y_train_combined)\n",
        "y_pred_lr = model_lr.predict(X_test_combined)\n",
        "results_combined['Logistic Regression'] = accuracy_score(y_test_combined, y_pred_lr)\n",
        "\n",
        "# 2. Decision Tree\n",
        "model_dt = DecisionTreeClassifier(random_state=42)\n",
        "model_dt.fit(X_train_combined, y_train_combined)\n",
        "y_pred_dt = model_dt.predict(X_test_combined)\n",
        "results_combined['Decision Tree'] = accuracy_score(y_test_combined, y_pred_dt)\n",
        "\n",
        "# 3. Random Forest\n",
        "model_rf = RandomForestClassifier(random_state=42)\n",
        "model_rf.fit(X_train_combined, y_train_combined)\n",
        "y_pred_rf = model_rf.predict(X_test_combined)\n",
        "results_combined['Random Forest'] = accuracy_score(y_test_combined, y_pred_rf)\n",
        "\n",
        "# 4. Support Vector Machine (SVM)\n",
        "model_svc = SVC(random_state=42)\n",
        "model_svc.fit(X_train_combined, y_train_combined)\n",
        "y_pred_svc = model_svc.predict(X_test_combined)\n",
        "results_combined['Support Vector Machine'] = accuracy_score(y_test_combined, y_pred_svc)\n",
        "\n",
        "# 5. Gradient Boosting (XGBoost)\n",
        "model_xgb = XGBClassifier(use_label_encoder=False, eval_metric='logloss')\n",
        "model_xgb.fit(X_train_combined, y_train_combined)\n",
        "y_pred_xgb = model_xgb.predict(X_test_combined)\n",
        "results_combined['XGBoost'] = accuracy_score(y_test_combined, y_pred_xgb)\n",
        "\n",
        "# Print results for combined dataset\n",
        "for model_name, accuracy in results_combined.items():\n",
        "    print(f\"{model_name} Accuracy: {accuracy:.4f}\")\n",
        "\n",
        "# Determine the best model for combined dataset\n",
        "best_model_combined = max(results_combined, key=results_combined.get)\n",
        "print(f\"The best model for the combined dataset is: {best_model_combined} with an accuracy of {results_combined[best_model_combined]:.4f}\")\n"
      ],
      "metadata": {
        "colab": {
          "base_uri": "https://localhost:8080/"
        },
        "id": "vpcpYgFjor9l",
        "outputId": "4c1aaf94-721a-4655-fdec-d57abca24a94"
      },
      "execution_count": 33,
      "outputs": [
        {
          "output_type": "stream",
          "name": "stderr",
          "text": [
            "/usr/local/lib/python3.10/dist-packages/xgboost/core.py:158: UserWarning: [19:18:02] WARNING: /workspace/src/learner.cc:740: \n",
            "Parameters: { \"use_label_encoder\" } are not used.\n",
            "\n",
            "  warnings.warn(smsg, UserWarning)\n"
          ]
        },
        {
          "output_type": "stream",
          "name": "stdout",
          "text": [
            "Logistic Regression Accuracy: 0.9635\n",
            "Decision Tree Accuracy: 0.9999\n",
            "Random Forest Accuracy: 0.9999\n",
            "Support Vector Machine Accuracy: 0.9712\n",
            "XGBoost Accuracy: 0.9991\n",
            "The best model for the combined dataset is: Decision Tree with an accuracy of 0.9999\n"
          ]
        }
      ]
    },
    {
      "cell_type": "markdown",
      "source": [
        "1. Voting Classifier"
      ],
      "metadata": {
        "id": "Kta-xMngqaIf"
      }
    },
    {
      "cell_type": "code",
      "source": [
        "from sklearn.ensemble import VotingClassifier\n",
        "from sklearn.tree import DecisionTreeClassifier\n",
        "from sklearn.linear_model import LogisticRegression\n",
        "from sklearn.ensemble import RandomForestClassifier\n",
        "from sklearn.metrics import accuracy_score\n",
        "import matplotlib.pyplot as plt\n",
        "\n",
        "# Create and fit Voting Classifier\n",
        "voting_clf = VotingClassifier(estimators=[\n",
        "    ('dt', DecisionTreeClassifier(random_state=42)),\n",
        "    ('lr', LogisticRegression()),\n",
        "    ('rf', RandomForestClassifier(random_state=42))\n",
        "], voting='soft')\n",
        "voting_clf.fit(X_train_combined, y_train_combined)\n",
        "\n",
        "# Predict and calculate accuracy\n",
        "y_pred_voting = voting_clf.predict(X_test_combined)\n",
        "accuracy_voting = accuracy_score(y_test_combined, y_pred_voting)\n",
        "print(\"Voting Classifier Accuracy:\", accuracy_voting)\n",
        "\n",
        "# Plot accuracy for Voting Classifier\n",
        "plt.figure(figsize=(6, 4))\n",
        "plt.barh(['Voting Classifier'], [accuracy_voting], color='cornflowerblue')\n",
        "plt.xlabel('Accuracy')\n",
        "plt.title('Voting Classifier Performance')\n",
        "plt.xlim(0, 1)\n",
        "plt.show()\n"
      ],
      "metadata": {
        "colab": {
          "base_uri": "https://localhost:8080/",
          "height": 427
        },
        "id": "93i_Si8npE9X",
        "outputId": "71af7019-04ed-40c3-9b85-8f835ce84ef8"
      },
      "execution_count": null,
      "outputs": [
        {
          "output_type": "stream",
          "name": "stdout",
          "text": [
            "Voting Classifier Accuracy: 0.9999480060313004\n"
          ]
        },
        {
          "output_type": "display_data",
          "data": {
            "text/plain": [
              "<Figure size 600x400 with 1 Axes>"
            ],
            "image/png": "[encoded data removed]"
          },
          "metadata": {}
        }
      ]
    },
    {
      "cell_type": "markdown",
      "source": [
        "2. Bagging Classifier"
      ],
      "metadata": {
        "id": "2cN4-HyWqkOb"
      }
    },
    {
      "cell_type": "code",
      "source": [
        "from sklearn.ensemble import BaggingClassifier, RandomForestClassifier\n",
        "from sklearn.metrics import accuracy_score\n",
        "\n",
        "# Create and fit Bagging Classifier\n",
        "bagging_clf = BaggingClassifier(estimator=RandomForestClassifier(), n_estimators=10, random_state=42)\n",
        "bagging_clf.fit(X_train_combined, y_train_combined)\n",
        "\n",
        "# Predict and calculate accuracy\n",
        "y_pred_bagging = bagging_clf.predict(X_test_combined)\n",
        "accuracy_bagging = accuracy_score(y_test_combined, y_pred_bagging)\n",
        "print(\"Bagging Classifier Accuracy:\", accuracy_bagging)\n",
        "\n",
        "# Plot accuracy for Bagging Classifier\n",
        "import matplotlib.pyplot as plt\n",
        "\n",
        "plt.figure(figsize=(6, 4))\n",
        "plt.barh(['Bagging (Random Forest)'], [accuracy_bagging], color='lightcoral')\n",
        "plt.xlabel('Accuracy')\n",
        "plt.title('Bagging Classifier Performance')\n",
        "plt.xlim(0, 1)\n",
        "plt.show()\n"
      ],
      "metadata": {
        "colab": {
          "base_uri": "https://localhost:8080/",
          "height": 427
        },
        "id": "194F9PaYqyF5",
        "outputId": "c3cbc521-2ff7-4bcf-e7d2-ec0b63108c0a"
      },
      "execution_count": null,
      "outputs": [
        {
          "output_type": "stream",
          "name": "stdout",
          "text": [
            "Bagging Classifier Accuracy: 1.0\n"
          ]
        },
        {
          "output_type": "display_data",
          "data": {
            "text/plain": [
              "<Figure size 600x400 with 1 Axes>"
            ],
            "image/png": "[encoded data removed]"
          },
          "metadata": {}
        }
      ]
    },
    {
      "cell_type": "markdown",
      "source": [
        "3. Boosting(AdaBosst)"
      ],
      "metadata": {
        "id": "I70OU575q-tu"
      }
    },
    {
      "cell_type": "code",
      "source": [
        "from sklearn.ensemble import AdaBoostClassifier\n",
        "\n",
        "# Create and fit AdaBoost Classifier\n",
        "boosting_clf = AdaBoostClassifier(n_estimators=50, random_state=42)\n",
        "boosting_clf.fit(X_train_combined, y_train_combined)\n",
        "\n",
        "# Predict and calculate accuracy\n",
        "y_pred_boosting = boosting_clf.predict(X_test_combined)\n",
        "accuracy_boosting = accuracy_score(y_test_combined, y_pred_boosting)\n",
        "print(\"Boosting Classifier (AdaBoost) Accuracy:\", accuracy_boosting)\n",
        "\n",
        "# Plot accuracy for Boosting Classifier\n",
        "plt.figure(figsize=(6, 4))\n",
        "plt.barh(['Boosting (AdaBoost)'], [accuracy_boosting], color='seagreen')\n",
        "plt.xlabel('Accuracy')\n",
        "plt.title('Boosting Classifier Performance')\n",
        "plt.xlim(0, 1)\n",
        "plt.show()\n"
      ],
      "metadata": {
        "colab": {
          "base_uri": "https://localhost:8080/",
          "height": 482
        },
        "id": "W9P6tf3lq-S9",
        "outputId": "0c1ce3e4-4a36-408d-e040-1c757b9d28e6"
      },
      "execution_count": null,
      "outputs": [
        {
          "output_type": "stream",
          "name": "stderr",
          "text": [
            "/usr/local/lib/python3.10/dist-packages/sklearn/ensemble/_weight_boosting.py:527: FutureWarning: The SAMME.R algorithm (the default) is deprecated and will be removed in 1.6. Use the SAMME algorithm to circumvent this warning.\n",
            "  warnings.warn(\n"
          ]
        },
        {
          "output_type": "stream",
          "name": "stdout",
          "text": [
            "Boosting Classifier (AdaBoost) Accuracy: 0.9999480060313004\n"
          ]
        },
        {
          "output_type": "display_data",
          "data": {
            "text/plain": [
              "<Figure size 600x400 with 1 Axes>"
            ],
            "image/png": "[encoded data removed]"
          },
          "metadata": {}
        }
      ]
    },
    {
      "cell_type": "code",
      "source": [
        "# Combine all ensemble methods' accuracies in one plot\n",
        "ensemble_results = {\n",
        "    \"Voting Classifier\": accuracy_voting,\n",
        "    \"Bagging (Random Forest)\": accuracy_bagging,\n",
        "    \"Boosting (AdaBoost)\": accuracy_boosting,\n",
        "}\n",
        "\n",
        "# Plot all ensemble accuracies\n",
        "plt.figure(figsize=(8, 5))\n",
        "plt.barh(list(ensemble_results.keys()), list(ensemble_results.values()), color=['cornflowerblue', 'lightcoral', 'seagreen'])\n",
        "plt.xlabel('Accuracy')\n",
        "plt.title('Comparison of Ensemble Method Accuracies')\n",
        "plt.xlim(0, 1)\n",
        "\n",
        "# Display accuracy on each bar\n",
        "for i, (name, accuracy) in enumerate(ensemble_results.items()):\n",
        "    plt.text(accuracy + 0.01, i, f\"{accuracy:.4f}\")\n",
        "\n",
        "plt.show()\n"
      ],
      "metadata": {
        "colab": {
          "base_uri": "https://localhost:8080/",
          "height": 474
        },
        "id": "kIv8X1gGrMIo",
        "outputId": "b9b25661-03c8-4f75-89c4-7a9714a95082"
      },
      "execution_count": null,
      "outputs": [
        {
          "output_type": "display_data",
          "data": {
            "text/plain": [
              "<Figure size 800x500 with 1 Axes>"
            ],
            "image/png": "[encoded data removed]"
          },
          "metadata": {}
        }
      ]
    },
    {
      "cell_type": "code",
      "source": [
        "from sklearn.tree import DecisionTreeClassifier\n",
        "from sklearn.linear_model import LogisticRegression\n",
        "from sklearn.ensemble import RandomForestClassifier, VotingClassifier, BaggingClassifier, AdaBoostClassifier\n",
        "from sklearn.neighbors import KNeighborsClassifier\n",
        "from sklearn.svm import SVC\n",
        "from sklearn.metrics import accuracy_score\n",
        "import matplotlib.pyplot as plt\n",
        "\n",
        "# Dictionary to store results\n",
        "results = {}\n",
        "\n",
        "# Train and evaluate individual models\n",
        "# 1. Decision Tree\n",
        "dt = DecisionTreeClassifier(random_state=42)\n",
        "dt.fit(X_train_combined, y_train_combined)\n",
        "y_pred_dt = dt.predict(X_test_combined)\n",
        "results['Decision Tree'] = accuracy_score(y_test_combined, y_pred_dt)\n",
        "\n",
        "# 2. Logistic Regression\n",
        "lr = LogisticRegression()\n",
        "lr.fit(X_train_combined, y_train_combined)\n",
        "y_pred_lr = lr.predict(X_test_combined)\n",
        "results['Logistic Regression'] = accuracy_score(y_test_combined, y_pred_lr)\n",
        "\n",
        "# 3. Random Forest\n",
        "rf = RandomForestClassifier(random_state=42)\n",
        "rf.fit(X_train_combined, y_train_combined)\n",
        "y_pred_rf = rf.predict(X_test_combined)\n",
        "results['Random Forest'] = accuracy_score(y_test_combined, y_pred_rf)\n",
        "\n",
        "# 4. K-Nearest Neighbors\n",
        "knn = KNeighborsClassifier()\n",
        "knn.fit(X_train_combined, y_train_combined)\n",
        "y_pred_knn = knn.predict(X_test_combined)\n",
        "results['K-Nearest Neighbors'] = accuracy_score(y_test_combined, y_pred_knn)\n",
        "\n",
        "# 5. Support Vector Machine\n",
        "svm = SVC()\n",
        "svm.fit(X_train_combined, y_train_combined)\n",
        "y_pred_svm = svm.predict(X_test_combined)\n",
        "results['SVM'] = accuracy_score(y_test_combined, y_pred_svm)\n",
        "\n",
        "# Train and evaluate ensemble methods\n",
        "# 1. Voting Classifier\n",
        "voting_clf = VotingClassifier(estimators=[\n",
        "    ('dt', DecisionTreeClassifier(random_state=42)),\n",
        "    ('lr', LogisticRegression()),\n",
        "    ('rf', RandomForestClassifier(random_state=42))\n",
        "], voting='soft')\n",
        "voting_clf.fit(X_train_combined, y_train_combined)\n",
        "y_pred_voting = voting_clf.predict(X_test_combined)\n",
        "results['Voting Classifier'] = accuracy_score(y_test_combined, y_pred_voting)\n",
        "\n",
        "# 2. Bagging Classifier (with Random Forest)\n",
        "bagging_clf = BaggingClassifier(estimator=RandomForestClassifier(), n_estimators=10, random_state=42)\n",
        "bagging_clf.fit(X_train_combined, y_train_combined)\n",
        "y_pred_bagging = bagging_clf.predict(X_test_combined)\n",
        "results['Bagging (Random Forest)'] = accuracy_score(y_test_combined, y_pred_bagging)\n",
        "\n",
        "# 3. Boosting (AdaBoost)\n",
        "boosting_clf = AdaBoostClassifier(n_estimators=50, random_state=42)\n",
        "boosting_clf.fit(X_train_combined, y_train_combined)\n",
        "y_pred_boosting = boosting_clf.predict(X_test_combined)\n",
        "results['Boosting (AdaBoost)'] = accuracy_score(y_test_combined, y_pred_boosting)\n",
        "\n",
        "# Plotting the results\n",
        "algorithms = list(results.keys())\n",
        "accuracies = list(results.values())\n",
        "\n",
        "plt.figure(figsize=(12, 8))\n",
        "plt.barh(algorithms, accuracies, color='skyblue')\n",
        "plt.xlabel('Accuracy')\n",
        "plt.title('Performance Comparison of Individual Models and Ensemble Methods')\n",
        "plt.xlim(0, 1)  # Assuming accuracy values are between 0 and 1\n",
        "\n",
        "# Display accuracy on each bar\n",
        "for index, value in enumerate(accuracies):\n",
        "    plt.text(value + 0.01, index, f\"{value:.4f}\")\n",
        "\n",
        "plt.show()\n"
      ],
      "metadata": {
        "colab": {
          "base_uri": "https://localhost:8080/",
          "height": 574
        },
        "id": "KfoLNcH0reZW",
        "outputId": "1319caec-4c6d-49b5-9617-3c13695fc2f9"
      },
      "execution_count": null,
      "outputs": [
        {
          "output_type": "stream",
          "name": "stderr",
          "text": [
            "/usr/local/lib/python3.10/dist-packages/sklearn/ensemble/_weight_boosting.py:527: FutureWarning: The SAMME.R algorithm (the default) is deprecated and will be removed in 1.6. Use the SAMME algorithm to circumvent this warning.\n",
            "  warnings.warn(\n"
          ]
        },
        {
          "output_type": "display_data",
          "data": {
            "text/plain": [
              "<Figure size 1200x800 with 1 Axes>"
            ],
            "image/png": "[encoded data removed]"
          },
          "metadata": {}
        }
      ]
    },
    {
      "cell_type": "code",
      "source": [
        "import pickle\n"
      ],
      "metadata": {
        "id": "x3Cn94tlduVa"
      },
      "execution_count": 34,
      "outputs": []
    },
    {
      "cell_type": "code",
      "source": [
        "# Ensure correct data types\n",
        "X = X.astype(float)  # Convert features to float if needed\n",
        "y_cpar = y_cpar.astype(float)  # Convert target to float if needed\n"
      ],
      "metadata": {
        "id": "JR5Kbci9g_KX"
      },
      "execution_count": 40,
      "outputs": []
    },
    {
      "cell_type": "code",
      "source": [],
      "metadata": {
        "id": "5s2gBM24g6IQ"
      },
      "execution_count": null,
      "outputs": []
    },
    {
      "cell_type": "code",
      "source": [],
      "metadata": {
        "id": "txc6qQxhg6KG"
      },
      "execution_count": null,
      "outputs": []
    },
    {
      "cell_type": "code",
      "source": [],
      "metadata": {
        "id": "4MTV4Fdug6MQ"
      },
      "execution_count": null,
      "outputs": []
    },
    {
      "cell_type": "code",
      "source": [],
      "metadata": {
        "id": "lfijiURPg6OK"
      },
      "execution_count": null,
      "outputs": []
    },
    {
      "cell_type": "code",
      "source": [],
      "metadata": {
        "id": "zhVOG8fcg6QM"
      },
      "execution_count": null,
      "outputs": []
    },
    {
      "cell_type": "code",
      "source": [],
      "metadata": {
        "id": "QjM0wO68g6Tl"
      },
      "execution_count": null,
      "outputs": []
    }
  ]
}